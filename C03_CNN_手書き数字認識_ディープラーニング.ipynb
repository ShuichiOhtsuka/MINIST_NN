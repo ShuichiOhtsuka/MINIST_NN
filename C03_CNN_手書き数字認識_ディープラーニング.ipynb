{
 "cells": [
  {
   "cell_type": "markdown",
   "metadata": {},
   "source": [
    "### 手書き数字認識　\n",
    "#### 　　kerasのgeneratorを使用し　データ拡張しながら　CNN　(ニュ－ラルネットワーク）    \n",
    "    \n",
    "    kerasのgenerator\n",
    "    自作のloss関数\n",
    "    学習途中の表示\n",
    "    不正解画像の表示\n",
    "    \n",
    "    "
   ]
  },
  {
   "cell_type": "code",
   "execution_count": 1,
   "metadata": {},
   "outputs": [
    {
     "name": "stderr",
     "output_type": "stream",
     "text": [
      "Using TensorFlow backend.\n"
     ]
    }
   ],
   "source": [
    "#　手書き数字認識　ディープラーニング\n",
    "\n",
    "import numpy as np\n",
    "import pandas as pd \n",
    "import matplotlib.pyplot as plt\n",
    "\n",
    "import keras\n",
    "from keras import models\n",
    "from keras import layers\n",
    "from keras.utils import plot_model\n",
    "from keras.models import model_from_json,load_model\n",
    "from keras.models import Sequential, load_model\n",
    "\n",
    "import time\n",
    "import warnings\n",
    "warnings.simplefilter(\"ignore\", category=DeprecationWarning)\n",
    "warnings.filterwarnings('ignore')"
   ]
  },
  {
   "cell_type": "code",
   "execution_count": 2,
   "metadata": {},
   "outputs": [],
   "source": [
    "from keras.optimizers import Adam\n",
    "from keras import backend as K\n",
    "from keras import losses\n",
    "from keras.metrics import categorical_accuracy,top_k_categorical_accuracy,categorical_crossentropy\n",
    "import tensorflow as tf\n",
    "\n"
   ]
  },
  {
   "cell_type": "code",
   "execution_count": 3,
   "metadata": {},
   "outputs": [],
   "source": [
    "import tensorflow as tf"
   ]
  },
  {
   "cell_type": "code",
   "execution_count": 4,
   "metadata": {},
   "outputs": [
    {
     "name": "stdout",
     "output_type": "stream",
     "text": [
      "Python.version 3.7.5 (default, Oct 31 2019, 15:18:51) [MSC v.1916 64 bit (AMD64)]\n",
      "tensorflow.version 1.15.0\n",
      "keras.version 2.2.4\n"
     ]
    }
   ],
   "source": [
    "import sys\n",
    "print('Python.version',sys.version)\n",
    "print('tensorflow.version',tf.__version__)\n",
    "print('keras.version',keras.__version__)"
   ]
  },
  {
   "cell_type": "markdown",
   "metadata": {},
   "source": [
    "#### 用意したファイルを読み込む"
   ]
  },
  {
   "cell_type": "code",
   "execution_count": 5,
   "metadata": {},
   "outputs": [
    {
     "name": "stdout",
     "output_type": "stream",
     "text": [
      "y_train.shape : (60000, 10)\n",
      "y_test.shape  : (10000, 10)\n",
      " \n",
      "Xtrain.shape   : (60000, 28, 28)\n",
      "ytrain.shape  : (60000,)\n",
      "Xtest.shape   : (10000, 28, 28)\n",
      "ytest.shape  : (10000,)\n"
     ]
    }
   ],
   "source": [
    "# フラットに展開したデータを読み込む\n",
    "\n",
    "y_train=np.load('DATA/y_train.npy')\n",
    "y_test=np.load('DATA/y_test.npy')\n",
    "\n",
    "Xtrain=np.load('DATA/Xtrain.npy')\n",
    "ytrain=np.load('DATA/ytrain.npy')\n",
    "Xtest=np.load('DATA/Xtest.npy')\n",
    "ytest=np.load('DATA/ytest.npy')\n",
    "\n",
    "print('y_train.shape :',y_train.shape)\n",
    "print('y_test.shape  :',y_test.shape)\n",
    "print(' ')\n",
    "print('Xtrain.shape   :',Xtrain.shape)\n",
    "print('ytrain.shape  :',ytrain.shape)\n",
    "print('Xtest.shape   :',Xtest.shape)\n",
    "print('ytest.shape  :',ytest.shape)"
   ]
  },
  {
   "cell_type": "code",
   "execution_count": 6,
   "metadata": {},
   "outputs": [
    {
     "name": "stdout",
     "output_type": "stream",
     "text": [
      "X_train.shape (60000, 28, 28, 1)\n"
     ]
    }
   ],
   "source": [
    "#入力データを４次のテンソルに変換\n",
    "\n",
    "X_train=Xtrain.reshape(60000,28,28,1)\n",
    "X_test =Xtest.reshape(10000,28,28,1)\n",
    "print('X_train.shape',X_train.shape)"
   ]
  },
  {
   "cell_type": "markdown",
   "metadata": {},
   "source": [
    "#### generator　作成\n",
    "    kerasのImageDataGenerator　を使用\n",
    "    Xtrainに適用する　flow\n",
    "\n",
    "\n",
    "#### CＮＮモデルの作成\n",
    "    入力データは、\n",
    "    第一段は、入力データを　300点のノードに　活性化関数は　 'relu' \n",
    "    第二段は　30点　dropoutを付与\n",
    "    最終段は、出力0-9の値　'softmax'関数で出力\n",
    "    \n",
    "#### コンパイル\n",
    "    モデルに、学習アルゴリズム、評価関数等を指定しコンパイルする。\n",
    "    \n",
    "#### 学習\n",
    "    以下の値を入れ学習をスタートさせる\n",
    "        学習データ、正解値データ　　\n",
    "        エポック数（まとまった学習単位）の数　　エポックの切れ目で色々な事が出来る。\n",
    "        バッチサイズ（１回の学習に使うサンプル数）\n",
    "        バッチ数（１エポック中のバッチ数）\n",
    "        \n",
    "#### テスト\n",
    "    学習させたモデルを使い　テストデータを入力し　性能を確認する\n",
    " "
   ]
  },
  {
   "cell_type": "code",
   "execution_count": 7,
   "metadata": {},
   "outputs": [],
   "source": [
    "#　Generator　関数　の作成　\n",
    "\n",
    "#　データ拡張を行い　過学習の影響を修正する\n",
    "#　　　ImageDataGenerator　を使用して\n",
    "#      入力データを４次元データに変換する必要あり\n",
    "\n",
    "from keras.preprocessing.image import ImageDataGenerator\n",
    "\n",
    "\n",
    "datagen = ImageDataGenerator(\n",
    "      rotation_range=10,\n",
    "      width_shift_range=0.1,\n",
    "      height_shift_range=0.1,\n",
    "      shear_range=0.1,\n",
    "      zoom_range=0.1,\n",
    "      horizontal_flip=True,\n",
    "      fill_mode='nearest')\n"
   ]
  },
  {
   "cell_type": "code",
   "execution_count": 8,
   "metadata": {},
   "outputs": [
    {
     "name": "stdout",
     "output_type": "stream",
     "text": [
      "WARNING:tensorflow:From D:\\Anaconda3\\envs\\tf2\\lib\\site-packages\\keras\\backend\\tensorflow_backend.py:74: The name tf.get_default_graph is deprecated. Please use tf.compat.v1.get_default_graph instead.\n",
      "\n",
      "WARNING:tensorflow:From D:\\Anaconda3\\envs\\tf2\\lib\\site-packages\\keras\\backend\\tensorflow_backend.py:517: The name tf.placeholder is deprecated. Please use tf.compat.v1.placeholder instead.\n",
      "\n",
      "WARNING:tensorflow:From D:\\Anaconda3\\envs\\tf2\\lib\\site-packages\\keras\\backend\\tensorflow_backend.py:4138: The name tf.random_uniform is deprecated. Please use tf.random.uniform instead.\n",
      "\n",
      "WARNING:tensorflow:From D:\\Anaconda3\\envs\\tf2\\lib\\site-packages\\keras\\backend\\tensorflow_backend.py:3976: The name tf.nn.max_pool is deprecated. Please use tf.nn.max_pool2d instead.\n",
      "\n",
      "WARNING:tensorflow:From D:\\Anaconda3\\envs\\tf2\\lib\\site-packages\\keras\\backend\\tensorflow_backend.py:133: The name tf.placeholder_with_default is deprecated. Please use tf.compat.v1.placeholder_with_default instead.\n",
      "\n",
      "WARNING:tensorflow:From D:\\Anaconda3\\envs\\tf2\\lib\\site-packages\\keras\\backend\\tensorflow_backend.py:3445: calling dropout (from tensorflow.python.ops.nn_ops) with keep_prob is deprecated and will be removed in a future version.\n",
      "Instructions for updating:\n",
      "Please use `rate` instead of `keep_prob`. Rate should be set to `rate = 1 - keep_prob`.\n",
      "_________________________________________________________________\n",
      "Layer (type)                 Output Shape              Param #   \n",
      "=================================================================\n",
      "conv2d_1 (Conv2D)            (None, 28, 28, 8)         80        \n",
      "_________________________________________________________________\n",
      "max_pooling2d_1 (MaxPooling2 (None, 9, 9, 8)           0         \n",
      "_________________________________________________________________\n",
      "flatten_1 (Flatten)          (None, 648)               0         \n",
      "_________________________________________________________________\n",
      "dense_1 (Dense)              (None, 300)               194700    \n",
      "_________________________________________________________________\n",
      "dense_2 (Dense)              (None, 30)                9030      \n",
      "_________________________________________________________________\n",
      "dropout_1 (Dropout)          (None, 30)                0         \n",
      "_________________________________________________________________\n",
      "dense_3 (Dense)              (None, 10)                310       \n",
      "=================================================================\n",
      "Total params: 204,120\n",
      "Trainable params: 204,120\n",
      "Non-trainable params: 0\n",
      "_________________________________________________________________\n"
     ]
    }
   ],
   "source": [
    "#　CNNのモデル作成 1\n",
    "i_shape=(28,28,1)\n",
    "\n",
    "model = models.Sequential()\n",
    "model.add(layers.Conv2D(8, (3, 3), activation='relu',padding='same',\n",
    "                        input_shape=i_shape))\n",
    "model.add(layers.MaxPooling2D((3, 3)))\n",
    "\n",
    "model.add(layers.Flatten())\n",
    "model.add(layers.Dense(300, activation='relu'))\n",
    "model.add(layers.Dense(30, activation='relu'))\n",
    "model.add(layers.Dropout(0.08))#Dropout\n",
    "model.add(layers.Dense(10,activation='softmax'))\n",
    "\n",
    "model.summary()"
   ]
  },
  {
   "cell_type": "code",
   "execution_count": 7,
   "metadata": {},
   "outputs": [
    {
     "data": {
      "text/plain": [
       "\"\\ni_shape=(28,28,1)\\n\\nmodel = models.Sequential()\\nmodel.add(layers.Flatten(input_shape=i_shape))\\n\\nmodel.add(layers.Dense(200, activation='relu'))\\nmodel.add(layers.Dense(60, activation='relu'))\\nmodel.add(layers.Dropout(0.05))#Dropout\\nmodel.add(layers.Dense(10,activation='softmax'))\\n\\nmodel.summary()\\n\""
      ]
     },
     "execution_count": 7,
     "metadata": {},
     "output_type": "execute_result"
    }
   ],
   "source": [
    "#　CNNのモデル作成 2\n",
    "'''\n",
    "i_shape=(28,28,1)\n",
    "\n",
    "model = models.Sequential()\n",
    "model.add(layers.Flatten(input_shape=i_shape))\n",
    "\n",
    "model.add(layers.Dense(200, activation='relu'))\n",
    "model.add(layers.Dense(60, activation='relu'))\n",
    "model.add(layers.Dropout(0.05))#Dropout\n",
    "model.add(layers.Dense(10,activation='softmax'))\n",
    "\n",
    "model.summary()\n",
    "'''"
   ]
  },
  {
   "cell_type": "code",
   "execution_count": 9,
   "metadata": {},
   "outputs": [],
   "source": [
    "#　損失関数\n",
    "from keras.optimizers import Adam\n",
    "from keras import backend as K\n",
    "from keras import losses\n",
    "from keras.metrics import categorical_accuracy,top_k_categorical_accuracy,categorical_crossentropy\n",
    "import tensorflow as tf\n",
    "\n",
    "#  mean_absolute_error(y_true, y_pred)\n",
    "#  categorical_crossentropy(y_true, y_pred)\n",
    "#  binary_crossentropy(y_true, y_pred)\n",
    "\n",
    "def new_loss(y_true, y_pred): \n",
    "#     return 1e-1*categorical_crossentropy(y_true, y_pred) - top_5_accuracy(y_true, y_pred)\n",
    "#    return categorical_crossentropy(y_true, y_pred) - top_5_accuracy(y_true, y_pred)\n",
    "#    return  mean_absolute_error(y_true, y_pred)\n",
    "    return 1e-1*categorical_crossentropy(y_true, y_pred) - f1(y_true, y_pred)\n",
    "\n",
    "\n",
    "#　評価関数\n",
    "\n",
    "#  binary_accuracy(y_true, y_pred)\n",
    "#  categorical_accuracy(y_true, y_pred)\n",
    "#  top_k_categorical_accuracy(y_true, y_pred, k=5)\n",
    "\n",
    "def top_5_accuracy(y_true,y_pred):\n",
    "        return top_k_categorical_accuracy(y_true,y_pred,k=5)\n",
    "    \n",
    "def f1(y_true, y_pred):\n",
    "    tp = K.sum(K.cast(y_true*y_pred, 'float'), axis=0)\n",
    "    fp = K.sum(K.cast((1-y_true)*y_pred, 'float'), axis=0)\n",
    "    fn = K.sum(K.cast(y_true*(1-y_pred), 'float'), axis=0)\n",
    "\n",
    "    p = tp / (tp + fp + K.epsilon())\n",
    "    r = tp / (tp + fn + K.epsilon())\n",
    "\n",
    "    f1 = 2*p*r / (p+r+K.epsilon())\n",
    "    f1 = tf.where(tf.is_nan(f1), tf.zeros_like(f1), f1)\n",
    "    return K.mean(f1)\n",
    "\n",
    "# 最適化\n",
    "from keras import optimizers\n",
    "\n",
    "sgd = optimizers.SGD(lr=0.01, clipnorm=1.)\n",
    "\n",
    "#  keras.optimizers.SGD(lr=0.01, momentum=0.0, decay=0.0, nesterov=False)\n",
    "#  keras.optimizers.Adam(lr=0.001, beta_1=0.9, beta_2=0.999, epsilon=None, decay=0.0, amsgrad=False)\n",
    "#  keras.optimizers.RMSprop(lr=0.001, rho=0.9, epsilon=None, decay=0.0)\n",
    "#  keras.optimizers.TFOptimizer(optimizer)\n",
    "\n"
   ]
  },
  {
   "cell_type": "code",
   "execution_count": 10,
   "metadata": {},
   "outputs": [
    {
     "name": "stdout",
     "output_type": "stream",
     "text": [
      "WARNING:tensorflow:From D:\\Anaconda3\\envs\\tf2\\lib\\site-packages\\keras\\optimizers.py:790: The name tf.train.Optimizer is deprecated. Please use tf.compat.v1.train.Optimizer instead.\n",
      "\n",
      "WARNING:tensorflow:From D:\\Anaconda3\\envs\\tf2\\lib\\site-packages\\keras\\backend\\tensorflow_backend.py:3295: The name tf.log is deprecated. Please use tf.math.log instead.\n",
      "\n",
      "WARNING:tensorflow:From <ipython-input-9-547312fe3a6e>:37: where (from tensorflow.python.ops.array_ops) is deprecated and will be removed in a future version.\n",
      "Instructions for updating:\n",
      "Use tf.where in 2.0, which has the same broadcast rule as np.where\n"
     ]
    }
   ],
   "source": [
    "#　モデルのコンパイル\n",
    "\n",
    "from keras import optimizers\n",
    "model.compile(optimizer='rmsprop',\n",
    "               #optimaizer=keras.optimizers.Adam(lr=0.001, beta_1=0.9, beta_2=0.999, epsilon=None, decay=0.0, amsgrad=False), \n",
    "               #loss='categorical_crossentropy',\n",
    "               loss=new_loss,\n",
    "               metrics=['accuracy'] \n",
    "             )\n",
    "\n",
    "\n"
   ]
  },
  {
   "cell_type": "code",
   "execution_count": 11,
   "metadata": {},
   "outputs": [],
   "source": [
    "#　Generator　関数　の作成　\n",
    "\n",
    "#　データ拡張を行い　過学習の影響を修正する\n",
    "#　　　ImageDataGenerator　を使用して\n",
    "#      入力データを４次元データに変換する必要あり\n",
    "\n",
    "from keras.preprocessing.image import ImageDataGenerator\n",
    "\n",
    "\n",
    "datagen = ImageDataGenerator(\n",
    "      rotation_range=20,\n",
    "      width_shift_range=0.2,\n",
    "      height_shift_range=0.2,\n",
    "      shear_range=0.2,\n",
    "      zoom_range=0.2,\n",
    "      horizontal_flip=True,\n",
    "      fill_mode='nearest')\n",
    "\n",
    "# generatorにデータを入れる\n",
    "b_size=128#　batchサイズ　パラメータ修正計算の単位\n",
    "s_per_epoch=len(X_train)//b_size#エポック内のバッチの数\n",
    "\n",
    "train_generator = datagen.flow(\n",
    "            X_train, y_train, batch_size=b_size)\n",
    "\n",
    "valid_generator = datagen.flow(\n",
    "            X_test, y_test, batch_size=b_size)      \n",
    "\n",
    "    "
   ]
  },
  {
   "cell_type": "code",
   "execution_count": 12,
   "metadata": {},
   "outputs": [
    {
     "name": "stdout",
     "output_type": "stream",
     "text": [
      "WARNING:tensorflow:From D:\\Anaconda3\\envs\\tf2\\lib\\site-packages\\keras\\backend\\tensorflow_backend.py:986: The name tf.assign_add is deprecated. Please use tf.compat.v1.assign_add instead.\n",
      "\n",
      "WARNING:tensorflow:From D:\\Anaconda3\\envs\\tf2\\lib\\site-packages\\keras\\backend\\tensorflow_backend.py:973: The name tf.assign is deprecated. Please use tf.compat.v1.assign instead.\n",
      "\n",
      "WARNING:tensorflow:From D:\\Anaconda3\\envs\\tf2\\lib\\site-packages\\keras\\backend\\tensorflow_backend.py:2741: The name tf.Session is deprecated. Please use tf.compat.v1.Session instead.\n",
      "\n",
      "Epoch 1/50\n",
      "WARNING:tensorflow:From D:\\Anaconda3\\envs\\tf2\\lib\\site-packages\\keras\\backend\\tensorflow_backend.py:174: The name tf.get_default_session is deprecated. Please use tf.compat.v1.get_default_session instead.\n",
      "\n",
      "WARNING:tensorflow:From D:\\Anaconda3\\envs\\tf2\\lib\\site-packages\\keras\\backend\\tensorflow_backend.py:181: The name tf.ConfigProto is deprecated. Please use tf.compat.v1.ConfigProto instead.\n",
      "\n",
      "WARNING:tensorflow:From D:\\Anaconda3\\envs\\tf2\\lib\\site-packages\\keras\\backend\\tensorflow_backend.py:190: The name tf.global_variables is deprecated. Please use tf.compat.v1.global_variables instead.\n",
      "\n",
      "WARNING:tensorflow:From D:\\Anaconda3\\envs\\tf2\\lib\\site-packages\\keras\\backend\\tensorflow_backend.py:199: The name tf.is_variable_initialized is deprecated. Please use tf.compat.v1.is_variable_initialized instead.\n",
      "\n",
      "WARNING:tensorflow:From D:\\Anaconda3\\envs\\tf2\\lib\\site-packages\\keras\\backend\\tensorflow_backend.py:206: The name tf.variables_initializer is deprecated. Please use tf.compat.v1.variables_initializer instead.\n",
      "\n",
      "468/468 [==============================] - 38s 81ms/step - loss: 1.3752 - acc: 0.1137 - val_loss: 1.3262 - val_acc: 0.1328\n",
      "Epoch 2/50\n",
      "468/468 [==============================] - 39s 84ms/step - loss: 1.2017 - acc: 0.1767 - val_loss: 1.1081 - val_acc: 0.2109\n",
      "Epoch 3/50\n",
      "468/468 [==============================] - 38s 82ms/step - loss: 0.9692 - acc: 0.2548 - val_loss: 0.7592 - val_acc: 0.3156\n",
      "Epoch 4/50\n",
      "468/468 [==============================] - 42s 90ms/step - loss: 0.0113 - acc: 0.3108 - val_loss: -0.1677 - val_acc: 0.4086\n",
      "Epoch 5/50\n",
      "468/468 [==============================] - 43s 91ms/step - loss: -0.2035 - acc: 0.4638 - val_loss: -0.2961 - val_acc: 0.5344\n",
      "Epoch 6/50\n",
      "468/468 [==============================] - 43s 93ms/step - loss: -0.3180 - acc: 0.5514 - val_loss: -0.3832 - val_acc: 0.6125\n",
      "Epoch 7/50\n",
      "468/468 [==============================] - 43s 92ms/step - loss: -0.4224 - acc: 0.6242 - val_loss: -0.5303 - val_acc: 0.7109\n",
      "Epoch 8/50\n",
      "468/468 [==============================] - 43s 93ms/step - loss: -0.5034 - acc: 0.6824 - val_loss: -0.6027 - val_acc: 0.7637\n",
      "Epoch 9/50\n",
      "468/468 [==============================] - 45s 97ms/step - loss: -0.5585 - acc: 0.7214 - val_loss: -0.6458 - val_acc: 0.7875\n",
      "Epoch 10/50\n",
      "468/468 [==============================] - 43s 91ms/step - loss: -0.5929 - acc: 0.7454 - val_loss: -0.6792 - val_acc: 0.8180\n",
      "Epoch 11/50\n",
      "468/468 [==============================] - 41s 87ms/step - loss: -0.6309 - acc: 0.7715 - val_loss: -0.7306 - val_acc: 0.8352\n",
      "Epoch 12/50\n",
      "468/468 [==============================] - 40s 85ms/step - loss: -0.6522 - acc: 0.7845 - val_loss: -0.7137 - val_acc: 0.8250\n",
      "Epoch 13/50\n",
      "468/468 [==============================] - 38s 82ms/step - loss: -0.6710 - acc: 0.7972 - val_loss: -0.7663 - val_acc: 0.8617\n",
      "Epoch 14/50\n",
      "468/468 [==============================] - 40s 85ms/step - loss: -0.6875 - acc: 0.8064 - val_loss: -0.7675 - val_acc: 0.8688\n",
      "Epoch 15/50\n",
      "468/468 [==============================] - 41s 87ms/step - loss: -0.6994 - acc: 0.8135 - val_loss: -0.7978 - val_acc: 0.8750\n",
      "Epoch 16/50\n",
      "468/468 [==============================] - 40s 85ms/step - loss: -0.7093 - acc: 0.8213 - val_loss: -0.7696 - val_acc: 0.8682\n",
      "Epoch 17/50\n",
      "468/468 [==============================] - 39s 83ms/step - loss: -0.7211 - acc: 0.8290 - val_loss: -0.7953 - val_acc: 0.8750\n",
      "Epoch 18/50\n",
      "468/468 [==============================] - 41s 89ms/step - loss: -0.7280 - acc: 0.8342 - val_loss: -0.7835 - val_acc: 0.8773\n",
      "Epoch 19/50\n",
      "468/468 [==============================] - 39s 83ms/step - loss: -0.7397 - acc: 0.8414 - val_loss: -0.8110 - val_acc: 0.8867\n",
      "Epoch 20/50\n",
      "468/468 [==============================] - 37s 79ms/step - loss: -0.7456 - acc: 0.8459 - val_loss: -0.8006 - val_acc: 0.8758\n",
      "Epoch 21/50\n",
      "468/468 [==============================] - 37s 79ms/step - loss: -0.7539 - acc: 0.8502 - val_loss: -0.8386 - val_acc: 0.9008\n",
      "Epoch 22/50\n",
      "468/468 [==============================] - 39s 84ms/step - loss: -0.7626 - acc: 0.8550 - val_loss: -0.8416 - val_acc: 0.8984\n",
      "Epoch 23/50\n",
      "468/468 [==============================] - 41s 87ms/step - loss: -0.7666 - acc: 0.8586 - val_loss: -0.8574 - val_acc: 0.9203\n",
      "Epoch 24/50\n",
      "468/468 [==============================] - 40s 85ms/step - loss: -0.7778 - acc: 0.8665 - val_loss: -0.8488 - val_acc: 0.9058\n",
      "Epoch 25/50\n",
      "468/468 [==============================] - 40s 85ms/step - loss: -0.7827 - acc: 0.8683 - val_loss: -0.8572 - val_acc: 0.9117\n",
      "Epoch 26/50\n",
      "468/468 [==============================] - 44s 93ms/step - loss: -0.7863 - acc: 0.8702 - val_loss: -0.8347 - val_acc: 0.9031\n",
      "Epoch 27/50\n",
      "468/468 [==============================] - 45s 96ms/step - loss: -0.7891 - acc: 0.8713 - val_loss: -0.8403 - val_acc: 0.9055\n",
      "Epoch 28/50\n",
      "468/468 [==============================] - 44s 94ms/step - loss: -0.7956 - acc: 0.8760 - val_loss: -0.8413 - val_acc: 0.9008\n",
      "Epoch 29/50\n",
      "468/468 [==============================] - 46s 97ms/step - loss: -0.7984 - acc: 0.8778 - val_loss: -0.8595 - val_acc: 0.9187\n",
      "Epoch 30/50\n",
      "468/468 [==============================] - 46s 99ms/step - loss: -0.8024 - acc: 0.8798 - val_loss: -0.8339 - val_acc: 0.9016\n",
      "Epoch 31/50\n",
      "468/468 [==============================] - 45s 95ms/step - loss: -0.8035 - acc: 0.8816 - val_loss: -0.8622 - val_acc: 0.9203\n",
      "Epoch 32/50\n",
      "468/468 [==============================] - 44s 93ms/step - loss: -0.8078 - acc: 0.8829 - val_loss: -0.8640 - val_acc: 0.9264\n",
      "Epoch 33/50\n",
      "468/468 [==============================] - 42s 90ms/step - loss: -0.8124 - acc: 0.8859 - val_loss: -0.8553 - val_acc: 0.9180\n",
      "Epoch 34/50\n",
      "468/468 [==============================] - 40s 84ms/step - loss: -0.8081 - acc: 0.8838 - val_loss: -0.8553 - val_acc: 0.9125\n",
      "Epoch 35/50\n",
      "468/468 [==============================] - 42s 90ms/step - loss: -0.8141 - acc: 0.8882 - val_loss: -0.8693 - val_acc: 0.9203\n",
      "Epoch 36/50\n",
      "468/468 [==============================] - 41s 88ms/step - loss: -0.8147 - acc: 0.8869 - val_loss: -0.8505 - val_acc: 0.9125\n",
      "Epoch 37/50\n",
      "468/468 [==============================] - 40s 85ms/step - loss: -0.8139 - acc: 0.8868 - val_loss: -0.8725 - val_acc: 0.9281\n",
      "Epoch 38/50\n",
      "468/468 [==============================] - 41s 88ms/step - loss: -0.8169 - acc: 0.8886 - val_loss: -0.8564 - val_acc: 0.9156\n",
      "Epoch 39/50\n",
      "468/468 [==============================] - 39s 84ms/step - loss: -0.8159 - acc: 0.8888 - val_loss: -0.8680 - val_acc: 0.9297\n",
      "Epoch 40/50\n",
      "468/468 [==============================] - 39s 83ms/step - loss: -0.8205 - acc: 0.8912 - val_loss: -0.8847 - val_acc: 0.9307\n",
      "Epoch 41/50\n",
      "468/468 [==============================] - 37s 79ms/step - loss: -0.8232 - acc: 0.8927 - val_loss: -0.8980 - val_acc: 0.9406\n",
      "Epoch 42/50\n",
      "468/468 [==============================] - 41s 87ms/step - loss: -0.8196 - acc: 0.8913 - val_loss: -0.8723 - val_acc: 0.9219\n",
      "Epoch 43/50\n",
      "468/468 [==============================] - 44s 93ms/step - loss: -0.8229 - acc: 0.8929 - val_loss: -0.8716 - val_acc: 0.9219\n",
      "Epoch 44/50\n",
      "468/468 [==============================] - 42s 90ms/step - loss: -0.8238 - acc: 0.8924 - val_loss: -0.8565 - val_acc: 0.9156\n",
      "Epoch 45/50\n",
      "468/468 [==============================] - 39s 84ms/step - loss: -0.8253 - acc: 0.8949 - val_loss: -0.8539 - val_acc: 0.9148\n",
      "Epoch 46/50\n",
      "468/468 [==============================] - 41s 88ms/step - loss: -0.8280 - acc: 0.8969 - val_loss: -0.8732 - val_acc: 0.9266\n",
      "Epoch 47/50\n",
      "468/468 [==============================] - 47s 100ms/step - loss: -0.8289 - acc: 0.8967 - val_loss: -0.8841 - val_acc: 0.9375\n",
      "Epoch 48/50\n",
      "468/468 [==============================] - 41s 88ms/step - loss: -0.8245 - acc: 0.8949 - val_loss: -0.8603 - val_acc: 0.9247\n",
      "Epoch 49/50\n"
     ]
    },
    {
     "name": "stdout",
     "output_type": "stream",
     "text": [
      "468/468 [==============================] - 40s 85ms/step - loss: -0.8265 - acc: 0.8955 - val_loss: -0.8747 - val_acc: 0.9266\n",
      "Epoch 50/50\n",
      "468/468 [==============================] - 40s 85ms/step - loss: -0.8324 - acc: 0.8993 - val_loss: -0.8526 - val_acc: 0.9148\n",
      "Wall time: 34min 19s\n"
     ]
    }
   ],
   "source": [
    "%%time\n",
    "# 学習\n",
    "\n",
    "#model.fit_generator(datagen.flow(X_train, y_train, batch_size=32),steps_per_epoch=len(X_train) / 32, epochs=20)\n",
    "\n",
    "history = model.fit_generator(train_generator,\n",
    "                              steps_per_epoch=s_per_epoch,\n",
    "                              epochs=50,\n",
    "                              validation_data=valid_generator,\n",
    "                              validation_steps=10\n",
    "                              )\n",
    "    "
   ]
  },
  {
   "cell_type": "code",
   "execution_count": 13,
   "metadata": {},
   "outputs": [
    {
     "data": {
      "text/plain": [
       "<matplotlib.legend.Legend at 0x1fa3522bef0>"
      ]
     },
     "execution_count": 13,
     "metadata": {},
     "output_type": "execute_result"
    },
    {
     "data": {
      "image/png": "[encoded data removed]",
      "text/plain": [
       "<Figure size 1080x360 with 2 Axes>"
      ]
     },
     "metadata": {
      "needs_background": "light"
     },
     "output_type": "display_data"
    }
   ],
   "source": [
    "#　訓練時の損失率と正解率をプロット\n",
    "\n",
    "import matplotlib.pyplot as plt\n",
    "\n",
    "\n",
    "fig, ax = plt.subplots(1, 2, figsize=(15,5))\n",
    "ax[0].set_title('loss')\n",
    "ax[0].plot(history.epoch, history.history[\"loss\"], label=\"Train loss\")\n",
    "ax[0].plot(history.epoch, history.history[\"val_loss\"], label=\"Validation loss\")\n",
    "ax[1].set_title('accuracy')\n",
    "ax[1].plot(history.epoch, history.history[\"acc\"], label=\"Train accuracy\")\n",
    "ax[1].plot(history.epoch, history.history[\"val_acc\"], label=\"Val_accuracy\")\n",
    "ax[0].legend()\n",
    "ax[1].legend()"
   ]
  },
  {
   "cell_type": "code",
   "execution_count": 13,
   "metadata": {},
   "outputs": [
    {
     "data": {
      "text/plain": [
       "2597"
      ]
     },
     "execution_count": 13,
     "metadata": {},
     "output_type": "execute_result"
    }
   ],
   "source": [
    "# モデルの保存\n",
    "\n",
    "model_name='model/MODEL_C03_NN_0529'\n",
    "\n",
    "model.save(model_name + '.hdf5')\n",
    "\n",
    "model.save_weights(model_name + '_weight.hdf5')\n",
    "#save as JSON\n",
    "json_string = model.to_json()\n",
    "open(model_name + '.json','w').write(json_string)"
   ]
  },
  {
   "cell_type": "code",
   "execution_count": 15,
   "metadata": {},
   "outputs": [
    {
     "name": "stdout",
     "output_type": "stream",
     "text": [
      "_________________________________________________________________\n",
      "Layer (type)                 Output Shape              Param #   \n",
      "=================================================================\n",
      "conv2d_1 (Conv2D)            (None, 28, 28, 8)         80        \n",
      "_________________________________________________________________\n",
      "max_pooling2d_1 (MaxPooling2 (None, 9, 9, 8)           0         \n",
      "_________________________________________________________________\n",
      "flatten_1 (Flatten)          (None, 648)               0         \n",
      "_________________________________________________________________\n",
      "dense_1 (Dense)              (None, 300)               194700    \n",
      "_________________________________________________________________\n",
      "dense_2 (Dense)              (None, 30)                9030      \n",
      "_________________________________________________________________\n",
      "dropout_1 (Dropout)          (None, 30)                0         \n",
      "_________________________________________________________________\n",
      "dense_3 (Dense)              (None, 10)                310       \n",
      "=================================================================\n",
      "Total params: 204,120\n",
      "Trainable params: 204,120\n",
      "Non-trainable params: 0\n",
      "_________________________________________________________________\n"
     ]
    }
   ],
   "source": [
    "### 学習済みモデルの読み込み\n",
    "model_name='model/MODEL_C03_NN_0529'\n",
    "\n",
    "model2=model_from_json(open(model_name + '.json','r').read())\n",
    "model2.load_weights(model_name  + '_weight.hdf5')\n",
    "\n",
    "\n",
    "model2.summary()"
   ]
  },
  {
   "cell_type": "code",
   "execution_count": null,
   "metadata": {},
   "outputs": [],
   "source": []
  },
  {
   "cell_type": "code",
   "execution_count": null,
   "metadata": {},
   "outputs": [],
   "source": []
  },
  {
   "cell_type": "code",
   "execution_count": null,
   "metadata": {},
   "outputs": [],
   "source": []
  },
  {
   "cell_type": "markdown",
   "metadata": {},
   "source": [
    "#### 不正解データの取り出し\n",
    "    予測値　予測＋to_categoricaの逆　（onehot⇒0-9の値）\n",
    "    正解値　\n",
    "    不正解の　id、予測値　正解値　を　データフレームに\n",
    "       ３つのデータをarrayに\n",
    "       assin()メソッドで　データフレームに追加\n",
    "    \n",
    "    Xtrain,ytrain, wosiyou を使用\n",
    "    "
   ]
  },
  {
   "cell_type": "code",
   "execution_count": 14,
   "metadata": {},
   "outputs": [
    {
     "name": "stdout",
     "output_type": "stream",
     "text": [
      "incorrect_id.shape (743, 3)\n"
     ]
    },
    {
     "data": {
      "text/html": [
       "<div>\n",
       "<style scoped>\n",
       "    .dataframe tbody tr th:only-of-type {\n",
       "        vertical-align: middle;\n",
       "    }\n",
       "\n",
       "    .dataframe tbody tr th {\n",
       "        vertical-align: top;\n",
       "    }\n",
       "\n",
       "    .dataframe thead th {\n",
       "        text-align: right;\n",
       "    }\n",
       "</style>\n",
       "<table border=\"1\" class=\"dataframe\">\n",
       "  <thead>\n",
       "    <tr style=\"text-align: right;\">\n",
       "      <th></th>\n",
       "      <th>inc_id</th>\n",
       "      <th>correct_label</th>\n",
       "      <th>pred_label</th>\n",
       "    </tr>\n",
       "  </thead>\n",
       "  <tbody>\n",
       "    <tr>\n",
       "      <th>1</th>\n",
       "      <td>6</td>\n",
       "      <td>4</td>\n",
       "      <td>9</td>\n",
       "    </tr>\n",
       "    <tr>\n",
       "      <th>2</th>\n",
       "      <td>18</td>\n",
       "      <td>3</td>\n",
       "      <td>0</td>\n",
       "    </tr>\n",
       "    <tr>\n",
       "      <th>3</th>\n",
       "      <td>24</td>\n",
       "      <td>4</td>\n",
       "      <td>9</td>\n",
       "    </tr>\n",
       "  </tbody>\n",
       "</table>\n",
       "</div>"
      ],
      "text/plain": [
       "  inc_id correct_label pred_label\n",
       "1      6             4          9\n",
       "2     18             3          0\n",
       "3     24             4          9"
      ]
     },
     "execution_count": 14,
     "metadata": {},
     "output_type": "execute_result"
    }
   ],
   "source": [
    "# 不正解データを取り出し　データフレームに\n",
    "\n",
    "y_test_pred=model.predict(X_test)     #　モデルで予測\n",
    "ytest_pred=np.argsort(-y_test_pred, axis = 1)[:,:1] #　onehotデータを数値順に並べ替え　そのidを返す\n",
    "ytest_pred=ytest_pred.reshape(-1)\n",
    "\n",
    "incorrect_id=pd.DataFrame(index=[ ],columns=['inc_id','correct_label','pred_label'])  #　結果を入れるDF\n",
    "\n",
    "j=0\n",
    "for i in range(len(ytest)):\n",
    "    if ytest_pred[i]!=ytest[i]:\n",
    "        j=j+1\n",
    "        d=pd.Series([i,ytest[i],ytest_pred[i]],incorrect_id.columns,name=j)\n",
    "        incorrect_id=incorrect_id.append(d)\n",
    "\n",
    "print('incorrect_id.shape',incorrect_id.shape)\n",
    "incorrect_id.head(3)\n",
    "#incorrect_id.tail(3)"
   ]
  },
  {
   "cell_type": "code",
   "execution_count": 16,
   "metadata": {},
   "outputs": [
    {
     "data": {
      "image/png": "[encoded data removed]",
      "text/plain": [
       "<Figure size 1440x360 with 10 Axes>"
      ]
     },
     "metadata": {
      "needs_background": "light"
     },
     "output_type": "display_data"
    }
   ],
   "source": [
    "#　不正解データの表示\n",
    "no=110\n",
    "\n",
    "fig, ax = plt.subplots(1,10,figsize=(20,5))\n",
    "\n",
    "for i in range(10):\n",
    "    image_no=incorrect_id.iloc[i+no][0]\n",
    "    c=incorrect_id.iloc[i+no][1]\n",
    "    p=incorrect_id.iloc[i+no][2]\n",
    "    \n",
    "    ax[i].imshow(Xtest[image_no] )\n",
    "    ax[i].set_title('No = {},{} '. format(c,p),fontsize=20)"
   ]
  },
  {
   "cell_type": "code",
   "execution_count": null,
   "metadata": {},
   "outputs": [],
   "source": []
  },
  {
   "cell_type": "code",
   "execution_count": null,
   "metadata": {},
   "outputs": [],
   "source": []
  },
  {
   "cell_type": "code",
   "execution_count": null,
   "metadata": {},
   "outputs": [],
   "source": []
  },
  {
   "cell_type": "code",
   "execution_count": null,
   "metadata": {},
   "outputs": [],
   "source": []
  },
  {
   "cell_type": "code",
   "execution_count": null,
   "metadata": {},
   "outputs": [],
   "source": []
  }
 ],
 "metadata": {
  "kernelspec": {
   "display_name": "Python 3",
   "language": "python",
   "name": "python3"
  },
  "language_info": {
   "codemirror_mode": {
    "name": "ipython",
    "version": 3
   },
   "file_extension": ".py",
   "mimetype": "text/x-python",
   "name": "python",
   "nbconvert_exporter": "python",
   "pygments_lexer": "ipython3",
   "version": "3.7.5"
  }
 },
 "nbformat": 4,
 "nbformat_minor": 2
}
