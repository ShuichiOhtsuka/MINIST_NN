{
 "cells": [
  {
   "cell_type": "code",
   "execution_count": 1,
   "metadata": {},
   "outputs": [
    {
     "name": "stderr",
     "output_type": "stream",
     "text": [
      "C:\\Anaconda3\\lib\\site-packages\\h5py\\__init__.py:36: FutureWarning: Conversion of the second argument of issubdtype from `float` to `np.floating` is deprecated. In future, it will be treated as `np.float64 == np.dtype(float).type`.\n",
      "  from ._conv import register_converters as _register_converters\n",
      "Using TensorFlow backend.\n"
     ]
    }
   ],
   "source": [
    "#　手書き数字認識　ディープラーニング\n",
    "import keras\n",
    "import numpy as np\n"
   ]
  },
  {
   "cell_type": "markdown",
   "metadata": {},
   "source": [
    "#### 用意したファイルを読み込む"
   ]
  },
  {
   "cell_type": "code",
   "execution_count": 2,
   "metadata": {},
   "outputs": [
    {
     "name": "stdout",
     "output_type": "stream",
     "text": [
      "X_train.shape  : (60000, 784)\n",
      "y_train.shape : (60000, 10)\n",
      "X_test.shape   : (10000, 784)\n",
      "y_test.shape  : (10000, 10)\n"
     ]
    }
   ],
   "source": [
    "X_train=np.load('DATA/X_train.npy')\n",
    "X_test=np.load('DATA/X_test.npy')\n",
    "y_train=np.load('DATA/y_train.npy')\n",
    "y_test=np.load('DATA/y_test.npy')\n",
    "\n",
    "print('X_train.shape  :',X_train.shape)\n",
    "print('y_train.shape :',y_train.shape)\n",
    "print('X_test.shape   :',X_test.shape)\n",
    "print('y_test.shape  :',y_test.shape)"
   ]
  },
  {
   "cell_type": "markdown",
   "metadata": {},
   "source": [
    "#### ＮＮモデルの作成\n",
    "    入力データは、28x28サイズの画像データを1行に並べたものを使用\n",
    "    第一段は、入力データを　200点のノードに　活性化関数は　 'relu' \n",
    "    第二段は、出力0-9の値　'softmax'関数で出力\n",
    "    \n",
    "#### コンパイル\n",
    "    モデルに、学習アルゴリズム、評価関数等を指定しコンパイルする。\n",
    "#### 学習\n",
    "    以下の値を入れ学習をスタートさせる\n",
    "        学習データ、正解値データ　　\n",
    "        エポック数（まとまった学習単位）の数　　エポックの切れ目で色々な事が出来る。\n",
    "        バッチサイズ（１回の学習に使うサンプル数）\n",
    "        バッチ数（１エポック中のバッチ数）　\n",
    "#### テスト\n",
    "    学習させたモデルを使い　テストデータを入力し　性能を確認する\n",
    " "
   ]
  },
  {
   "cell_type": "code",
   "execution_count": 3,
   "metadata": {},
   "outputs": [
    {
     "name": "stdout",
     "output_type": "stream",
     "text": [
      "_________________________________________________________________\n",
      "Layer (type)                 Output Shape              Param #   \n",
      "=================================================================\n",
      "dense_1 (Dense)              (None, 200)               157000    \n",
      "_________________________________________________________________\n",
      "dense_2 (Dense)              (None, 10)                2010      \n",
      "=================================================================\n",
      "Total params: 159,010\n",
      "Trainable params: 159,010\n",
      "Non-trainable params: 0\n",
      "_________________________________________________________________\n"
     ]
    }
   ],
   "source": [
    "#　NNのモデル作成\n",
    "\n",
    "from keras import models\n",
    "from keras import layers\n",
    "from keras.utils import plot_model\n",
    "\n",
    "model = models.Sequential()\n",
    "model.add(layers.Dense(200 , activation = 'relu' , input_shape=(28*28,)))\n",
    "model.add(layers.Dense(10,activation='softmax'))\n",
    "\n",
    "# モデルの表示\n",
    "#plot_model(model,show_shapes=True, to_file='model.png' )\n",
    "model.summary()"
   ]
  },
  {
   "cell_type": "code",
   "execution_count": 4,
   "metadata": {},
   "outputs": [],
   "source": [
    "# コンパイル\n",
    "\n",
    "model.compile(optimizer='rmsprop',\n",
    "               loss='categorical_crossentropy',\n",
    "               metrics=['accuracy'])"
   ]
  },
  {
   "cell_type": "code",
   "execution_count": 5,
   "metadata": {},
   "outputs": [
    {
     "name": "stdout",
     "output_type": "stream",
     "text": [
      "Epoch 1/5\n",
      "60000/60000 [==============================] - 4s 72us/step - loss: 0.3058 - acc: 0.9144\n",
      "Epoch 2/5\n",
      "60000/60000 [==============================] - 2s 34us/step - loss: 0.1373 - acc: 0.9602\n",
      "Epoch 3/5\n",
      "60000/60000 [==============================] - 2s 34us/step - loss: 0.0941 - acc: 0.9728\n",
      "Epoch 4/5\n",
      "60000/60000 [==============================] - 2s 34us/step - loss: 0.0714 - acc: 0.9785\n",
      "Epoch 5/5\n",
      "60000/60000 [==============================] - 2s 34us/step - loss: 0.0566 - acc: 0.9831\n"
     ]
    },
    {
     "data": {
      "text/plain": [
       "<keras.callbacks.History at 0x16470fc76d8>"
      ]
     },
     "execution_count": 5,
     "metadata": {},
     "output_type": "execute_result"
    }
   ],
   "source": [
    "#　60000件の教師データを学習\n",
    "#　128個のバッチ学習を　５回繰り返す　\n",
    "#model.compile(optimizer='rmsprop',loss='categorical_crossentropy',metrics=['accuracy'])\n",
    "\n",
    "model.fit(X_train,y_train,epochs = 5,batch_size=128)"
   ]
  },
  {
   "cell_type": "code",
   "execution_count": 6,
   "metadata": {},
   "outputs": [
    {
     "name": "stdout",
     "output_type": "stream",
     "text": [
      "10000/10000 [==============================] - 0s 35us/step\n",
      "test_acc 0.9773\n",
      "test_loss 0.07824244307058398\n"
     ]
    }
   ],
   "source": [
    "#　学習した判別器を使用し　テストデータ10000個をテスト\n",
    "\n",
    "test_loss, test_acc = model.evaluate(X_test, y_test)\n",
    "\n",
    "print('test_acc' , test_acc)\n",
    "print('test_loss' , test_loss)"
   ]
  },
  {
   "cell_type": "code",
   "execution_count": null,
   "metadata": {},
   "outputs": [],
   "source": []
  }
 ],
 "metadata": {
  "kernelspec": {
   "display_name": "Python 3",
   "language": "python",
   "name": "python3"
  },
  "language_info": {
   "codemirror_mode": {
    "name": "ipython",
    "version": 3
   },
   "file_extension": ".py",
   "mimetype": "text/x-python",
   "name": "python",
   "nbconvert_exporter": "python",
   "pygments_lexer": "ipython3",
   "version": "3.6.4"
  }
 },
 "nbformat": 4,
 "nbformat_minor": 2
}
