{
 "cells": [
  {
   "cell_type": "markdown",
   "metadata": {},
   "source": [
    "### 手書き数字認識　\n",
    "#### 　　フラットに展開しNN　(ニュ－ラルネットワーク）    "
   ]
  },
  {
   "cell_type": "code",
   "execution_count": 1,
   "metadata": {},
   "outputs": [
    {
     "name": "stderr",
     "output_type": "stream",
     "text": [
      "C:\\Anaconda3\\lib\\site-packages\\h5py\\__init__.py:36: FutureWarning: Conversion of the second argument of issubdtype from `float` to `np.floating` is deprecated. In future, it will be treated as `np.float64 == np.dtype(float).type`.\n",
      "  from ._conv import register_converters as _register_converters\n",
      "Using TensorFlow backend.\n"
     ]
    }
   ],
   "source": [
    "#　手書き数字認識　ディープラーニング\n",
    "\n",
    "import numpy as np\n",
    "import pandas as pd \n",
    "import matplotlib.pyplot as plt\n",
    "\n",
    "import keras\n",
    "from keras import models\n",
    "from keras import layers\n",
    "from keras.utils import plot_model\n",
    "from keras.models import model_from_json,load_model\n",
    "from keras.models import Sequential, load_model\n",
    "\n",
    "import time\n",
    "import warnings\n",
    "warnings.simplefilter(\"ignore\", category=DeprecationWarning)\n",
    "warnings.filterwarnings('ignore')"
   ]
  },
  {
   "cell_type": "markdown",
   "metadata": {},
   "source": [
    "#### 用意したファイルを読み込む"
   ]
  },
  {
   "cell_type": "code",
   "execution_count": 2,
   "metadata": {},
   "outputs": [
    {
     "name": "stdout",
     "output_type": "stream",
     "text": [
      "X_train.shape  : (60000, 784)\n",
      "y_train.shape : (60000, 10)\n",
      "X_test.shape   : (10000, 784)\n",
      "y_test.shape  : (10000, 10)\n",
      " \n",
      "Xtrain.shape   : (60000, 28, 28)\n",
      "ytrain.shape  : (60000,)\n",
      "Xtest.shape   : (10000, 28, 28)\n",
      "ytest.shape  : (10000,)\n"
     ]
    }
   ],
   "source": [
    "# フラットに展開したデータを読み込む\n",
    "\n",
    "X_train=np.load('DATA/X_train.npy')\n",
    "X_test=np.load('DATA/X_test.npy')\n",
    "y_train=np.load('DATA/y_train.npy')\n",
    "y_test=np.load('DATA/y_test.npy')\n",
    "\n",
    "Xtrain=np.load('DATA/Xtrain.npy')\n",
    "ytrain=np.load('DATA/ytrain.npy')\n",
    "Xtest=np.load('DATA/Xtest.npy')\n",
    "ytest=np.load('DATA/ytest.npy')\n",
    "\n",
    "\n",
    "print('X_train.shape  :',X_train.shape)\n",
    "print('y_train.shape :',y_train.shape)\n",
    "print('X_test.shape   :',X_test.shape)\n",
    "print('y_test.shape  :',y_test.shape)\n",
    "print(' ')\n",
    "print('Xtrain.shape   :',Xtrain.shape)\n",
    "print('ytrain.shape  :',ytrain.shape)\n",
    "print('Xtest.shape   :',Xtest.shape)\n",
    "print('ytest.shape  :',ytest.shape)"
   ]
  },
  {
   "cell_type": "markdown",
   "metadata": {},
   "source": [
    "#### ＮＮモデルの作成\n",
    "    入力データは、28x28サイズの画像データを1行に並べたものを使用\n",
    "    第一段は、入力データを　300点のノードに　活性化関数は　 'relu' \n",
    "    第二段は　30点　dropoutを付与\n",
    "    最終段は、出力0-9の値　'softmax'関数で出力\n",
    "    \n",
    "#### コンパイル\n",
    "    モデルに、学習アルゴリズム、評価関数等を指定しコンパイルする。\n",
    "    \n",
    "#### 学習\n",
    "    以下の値を入れ学習をスタートさせる\n",
    "        学習データ、正解値データ　　\n",
    "        エポック数（まとまった学習単位）の数　　エポックの切れ目で色々な事が出来る。\n",
    "        バッチサイズ（１回の学習に使うサンプル数）\n",
    "        バッチ数（１エポック中のバッチ数）\n",
    "        \n",
    "#### テスト\n",
    "    学習させたモデルを使い　テストデータを入力し　性能を確認する\n",
    " "
   ]
  },
  {
   "cell_type": "code",
   "execution_count": 3,
   "metadata": {},
   "outputs": [
    {
     "name": "stdout",
     "output_type": "stream",
     "text": [
      "_________________________________________________________________\n",
      "Layer (type)                 Output Shape              Param #   \n",
      "=================================================================\n",
      "dense_1 (Dense)              (None, 300)               235500    \n",
      "_________________________________________________________________\n",
      "dense_2 (Dense)              (None, 30)                9030      \n",
      "_________________________________________________________________\n",
      "dropout_1 (Dropout)          (None, 30)                0         \n",
      "_________________________________________________________________\n",
      "dense_3 (Dense)              (None, 10)                310       \n",
      "=================================================================\n",
      "Total params: 244,840\n",
      "Trainable params: 244,840\n",
      "Non-trainable params: 0\n",
      "_________________________________________________________________\n"
     ]
    }
   ],
   "source": [
    "#　NNのモデル作成\n",
    "\n",
    "model = models.Sequential()\n",
    "model.add(layers.Dense(300 , activation = 'relu' , input_shape=(28*28,)))\n",
    "model.add(layers.Dense(30 , activation = 'relu' ))\n",
    "model.add(layers.Dropout(0.5))\n",
    "model.add(layers.Dense(10,activation='softmax'))\n",
    "\n",
    "# モデルの表示\n",
    "#plot_model(model,show_shapes=True, to_file='model.png' )\n",
    "model.summary()"
   ]
  },
  {
   "cell_type": "code",
   "execution_count": 4,
   "metadata": {},
   "outputs": [],
   "source": [
    "# コンパイル\n",
    "\n",
    "model.compile(optimizer='Adam',\n",
    "               loss='categorical_crossentropy',\n",
    "               metrics=['accuracy'])"
   ]
  },
  {
   "cell_type": "code",
   "execution_count": 5,
   "metadata": {},
   "outputs": [
    {
     "name": "stdout",
     "output_type": "stream",
     "text": [
      "Train on 60000 samples, validate on 10000 samples\n",
      "Epoch 1/100\n",
      "60000/60000 [==============================] - 7s 110us/step - loss: 0.6234 - acc: 0.8110 - val_loss: 0.1637 - val_acc: 0.9520\n",
      "Epoch 2/100\n",
      "60000/60000 [==============================] - 5s 76us/step - loss: 0.2882 - acc: 0.9174 - val_loss: 0.1173 - val_acc: 0.9661\n",
      "Epoch 3/100\n",
      "60000/60000 [==============================] - 5s 77us/step - loss: 0.2132 - acc: 0.9389 - val_loss: 0.1028 - val_acc: 0.9699\n",
      "Epoch 4/100\n",
      "60000/60000 [==============================] - 5s 76us/step - loss: 0.1731 - acc: 0.9496 - val_loss: 0.0873 - val_acc: 0.9745\n",
      "Epoch 5/100\n",
      "60000/60000 [==============================] - 5s 77us/step - loss: 0.1473 - acc: 0.9563 - val_loss: 0.0833 - val_acc: 0.9761\n",
      "Epoch 6/100\n",
      "60000/60000 [==============================] - 4s 74us/step - loss: 0.1290 - acc: 0.9614 - val_loss: 0.0866 - val_acc: 0.9749\n",
      "Epoch 7/100\n",
      "60000/60000 [==============================] - 5s 76us/step - loss: 0.1148 - acc: 0.9651 - val_loss: 0.0833 - val_acc: 0.9786\n",
      "Epoch 8/100\n",
      "60000/60000 [==============================] - 4s 74us/step - loss: 0.1013 - acc: 0.9687 - val_loss: 0.0803 - val_acc: 0.9785\n",
      "Epoch 9/100\n",
      "60000/60000 [==============================] - 4s 72us/step - loss: 0.0942 - acc: 0.9701 - val_loss: 0.0846 - val_acc: 0.9780\n",
      "Epoch 10/100\n",
      "60000/60000 [==============================] - 4s 73us/step - loss: 0.0827 - acc: 0.9727 - val_loss: 0.0913 - val_acc: 0.9779\n",
      "Epoch 11/100\n",
      "60000/60000 [==============================] - 4s 73us/step - loss: 0.0793 - acc: 0.9742 - val_loss: 0.0839 - val_acc: 0.9789\n",
      "Epoch 12/100\n",
      "60000/60000 [==============================] - 4s 74us/step - loss: 0.0732 - acc: 0.9759 - val_loss: 0.0938 - val_acc: 0.9788\n",
      "Epoch 13/100\n",
      "60000/60000 [==============================] - 4s 73us/step - loss: 0.0658 - acc: 0.9778 - val_loss: 0.0931 - val_acc: 0.9783\n",
      "Epoch 14/100\n",
      "60000/60000 [==============================] - 4s 74us/step - loss: 0.0638 - acc: 0.9780 - val_loss: 0.0948 - val_acc: 0.9779\n",
      "Epoch 15/100\n",
      "60000/60000 [==============================] - 4s 75us/step - loss: 0.0603 - acc: 0.9792 - val_loss: 0.0890 - val_acc: 0.9810\n",
      "Epoch 16/100\n",
      "60000/60000 [==============================] - 4s 75us/step - loss: 0.0588 - acc: 0.9795 - val_loss: 0.0966 - val_acc: 0.9795\n",
      "Epoch 17/100\n",
      "60000/60000 [==============================] - 4s 75us/step - loss: 0.0525 - acc: 0.9820 - val_loss: 0.0962 - val_acc: 0.9801\n",
      "Epoch 18/100\n",
      "60000/60000 [==============================] - 4s 75us/step - loss: 0.0524 - acc: 0.9820 - val_loss: 0.1098 - val_acc: 0.9799\n",
      "Epoch 19/100\n",
      "60000/60000 [==============================] - 4s 74us/step - loss: 0.0539 - acc: 0.9812 - val_loss: 0.1063 - val_acc: 0.9795\n",
      "Epoch 20/100\n",
      "60000/60000 [==============================] - 5s 83us/step - loss: 0.0494 - acc: 0.9825 - val_loss: 0.1132 - val_acc: 0.9798\n",
      "Epoch 21/100\n",
      "60000/60000 [==============================] - 5s 81us/step - loss: 0.0456 - acc: 0.9836 - val_loss: 0.1124 - val_acc: 0.9813\n",
      "Epoch 22/100\n",
      "60000/60000 [==============================] - 5s 78us/step - loss: 0.0456 - acc: 0.9842 - val_loss: 0.1107 - val_acc: 0.9804\n",
      "Epoch 23/100\n",
      "60000/60000 [==============================] - 5s 79us/step - loss: 0.0455 - acc: 0.9839 - val_loss: 0.1093 - val_acc: 0.9810\n",
      "Epoch 24/100\n",
      "60000/60000 [==============================] - 5s 80us/step - loss: 0.0413 - acc: 0.9855 - val_loss: 0.1168 - val_acc: 0.9802\n",
      "Epoch 25/100\n",
      "60000/60000 [==============================] - 5s 81us/step - loss: 0.0444 - acc: 0.9848 - val_loss: 0.1180 - val_acc: 0.9800\n",
      "Epoch 26/100\n",
      "60000/60000 [==============================] - 5s 75us/step - loss: 0.0400 - acc: 0.9857 - val_loss: 0.1247 - val_acc: 0.9805\n",
      "Epoch 27/100\n",
      "60000/60000 [==============================] - 4s 74us/step - loss: 0.0419 - acc: 0.9854 - val_loss: 0.1126 - val_acc: 0.9818\n",
      "Epoch 28/100\n",
      "60000/60000 [==============================] - 6s 96us/step - loss: 0.0394 - acc: 0.9861 - val_loss: 0.1229 - val_acc: 0.9806\n",
      "Epoch 29/100\n",
      "60000/60000 [==============================] - 5s 79us/step - loss: 0.0385 - acc: 0.9869 - val_loss: 0.1256 - val_acc: 0.9796\n",
      "Epoch 30/100\n",
      "60000/60000 [==============================] - 5s 75us/step - loss: 0.0371 - acc: 0.9869 - val_loss: 0.1230 - val_acc: 0.9800\n",
      "Epoch 31/100\n",
      "60000/60000 [==============================] - 4s 73us/step - loss: 0.0370 - acc: 0.9865 - val_loss: 0.1334 - val_acc: 0.9793\n",
      "Epoch 32/100\n",
      "60000/60000 [==============================] - 5s 84us/step - loss: 0.0390 - acc: 0.9864 - val_loss: 0.1356 - val_acc: 0.9784\n",
      "Epoch 33/100\n",
      "60000/60000 [==============================] - 6s 104us/step - loss: 0.0357 - acc: 0.9874 - val_loss: 0.1442 - val_acc: 0.9788\n",
      "Epoch 34/100\n",
      "60000/60000 [==============================] - 5s 90us/step - loss: 0.0337 - acc: 0.9880 - val_loss: 0.1304 - val_acc: 0.9813\n",
      "Epoch 35/100\n",
      "60000/60000 [==============================] - 6s 95us/step - loss: 0.0312 - acc: 0.9892 - val_loss: 0.1322 - val_acc: 0.9809\n",
      "Epoch 36/100\n",
      "60000/60000 [==============================] - 6s 105us/step - loss: 0.0334 - acc: 0.9881 - val_loss: 0.1338 - val_acc: 0.9797\n",
      "Epoch 37/100\n",
      "60000/60000 [==============================] - 5s 89us/step - loss: 0.0351 - acc: 0.9875 - val_loss: 0.1306 - val_acc: 0.9814\n",
      "Epoch 38/100\n",
      "60000/60000 [==============================] - 5s 85us/step - loss: 0.0362 - acc: 0.9869 - val_loss: 0.1446 - val_acc: 0.9801\n",
      "Epoch 39/100\n",
      "60000/60000 [==============================] - 5s 83us/step - loss: 0.0313 - acc: 0.9887 - val_loss: 0.1344 - val_acc: 0.9807\n",
      "Epoch 40/100\n",
      "60000/60000 [==============================] - 5s 79us/step - loss: 0.0341 - acc: 0.9878 - val_loss: 0.1327 - val_acc: 0.9800\n",
      "Epoch 41/100\n",
      "60000/60000 [==============================] - 5s 80us/step - loss: 0.0318 - acc: 0.9885 - val_loss: 0.1332 - val_acc: 0.9816\n",
      "Epoch 42/100\n",
      "60000/60000 [==============================] - 5s 80us/step - loss: 0.0312 - acc: 0.9887 - val_loss: 0.1411 - val_acc: 0.9810\n",
      "Epoch 43/100\n",
      "60000/60000 [==============================] - 5s 78us/step - loss: 0.0289 - acc: 0.9886 - val_loss: 0.1339 - val_acc: 0.9820\n",
      "Epoch 44/100\n",
      "60000/60000 [==============================] - 5s 84us/step - loss: 0.0320 - acc: 0.9887 - val_loss: 0.1575 - val_acc: 0.9794\n",
      "Epoch 45/100\n",
      "60000/60000 [==============================] - 5s 80us/step - loss: 0.0304 - acc: 0.9893 - val_loss: 0.1381 - val_acc: 0.9802\n",
      "Epoch 46/100\n",
      "60000/60000 [==============================] - 5s 80us/step - loss: 0.0287 - acc: 0.9895 - val_loss: 0.1385 - val_acc: 0.9816\n",
      "Epoch 47/100\n",
      "60000/60000 [==============================] - 5s 79us/step - loss: 0.0297 - acc: 0.9895 - val_loss: 0.1444 - val_acc: 0.9819\n",
      "Epoch 48/100\n",
      "60000/60000 [==============================] - 5s 80us/step - loss: 0.0317 - acc: 0.9886 - val_loss: 0.1500 - val_acc: 0.9791\n",
      "Epoch 49/100\n",
      "60000/60000 [==============================] - 5s 83us/step - loss: 0.0293 - acc: 0.9893 - val_loss: 0.1462 - val_acc: 0.9795\n",
      "Epoch 50/100\n",
      "60000/60000 [==============================] - 5s 77us/step - loss: 0.0283 - acc: 0.9899 - val_loss: 0.1424 - val_acc: 0.9804\n",
      "Epoch 51/100\n",
      "60000/60000 [==============================] - 5s 79us/step - loss: 0.0287 - acc: 0.9892 - val_loss: 0.1581 - val_acc: 0.9793\n",
      "Epoch 52/100\n",
      "60000/60000 [==============================] - 5s 77us/step - loss: 0.0303 - acc: 0.9893 - val_loss: 0.1478 - val_acc: 0.9798\n",
      "Epoch 53/100\n",
      "60000/60000 [==============================] - 5s 77us/step - loss: 0.0273 - acc: 0.9907 - val_loss: 0.1418 - val_acc: 0.9808\n",
      "Epoch 54/100\n",
      "60000/60000 [==============================] - 4s 73us/step - loss: 0.0276 - acc: 0.9899 - val_loss: 0.1480 - val_acc: 0.9820\n",
      "Epoch 55/100\n",
      "60000/60000 [==============================] - 4s 74us/step - loss: 0.0285 - acc: 0.9898 - val_loss: 0.1521 - val_acc: 0.9807\n",
      "Epoch 56/100\n",
      "60000/60000 [==============================] - 5s 76us/step - loss: 0.0274 - acc: 0.9903 - val_loss: 0.1712 - val_acc: 0.9792\n",
      "Epoch 57/100\n",
      "60000/60000 [==============================] - 4s 73us/step - loss: 0.0296 - acc: 0.9898 - val_loss: 0.1540 - val_acc: 0.9809\n",
      "Epoch 58/100\n",
      "60000/60000 [==============================] - 4s 74us/step - loss: 0.0261 - acc: 0.9906 - val_loss: 0.1668 - val_acc: 0.9797\n",
      "Epoch 59/100\n",
      "60000/60000 [==============================] - 4s 71us/step - loss: 0.0254 - acc: 0.9908 - val_loss: 0.1561 - val_acc: 0.9799\n",
      "Epoch 60/100\n",
      "60000/60000 [==============================] - 4s 72us/step - loss: 0.0276 - acc: 0.9906 - val_loss: 0.1511 - val_acc: 0.9814\n",
      "Epoch 61/100\n",
      "60000/60000 [==============================] - 4s 71us/step - loss: 0.0263 - acc: 0.9907 - val_loss: 0.1596 - val_acc: 0.9811\n",
      "Epoch 62/100\n",
      "60000/60000 [==============================] - 4s 72us/step - loss: 0.0257 - acc: 0.9910 - val_loss: 0.1568 - val_acc: 0.9814\n",
      "Epoch 63/100\n",
      "60000/60000 [==============================] - 5s 78us/step - loss: 0.0230 - acc: 0.9916 - val_loss: 0.1590 - val_acc: 0.9801\n",
      "Epoch 64/100\n",
      "60000/60000 [==============================] - 5s 77us/step - loss: 0.0288 - acc: 0.9902 - val_loss: 0.1681 - val_acc: 0.9795\n",
      "Epoch 65/100\n",
      "60000/60000 [==============================] - 5s 80us/step - loss: 0.0264 - acc: 0.9907 - val_loss: 0.1522 - val_acc: 0.9814\n",
      "Epoch 66/100\n",
      "60000/60000 [==============================] - 5s 80us/step - loss: 0.0260 - acc: 0.9913 - val_loss: 0.1712 - val_acc: 0.9797\n",
      "Epoch 67/100\n",
      "60000/60000 [==============================] - 5s 80us/step - loss: 0.0235 - acc: 0.9915 - val_loss: 0.1805 - val_acc: 0.9803\n",
      "Epoch 68/100\n",
      "60000/60000 [==============================] - 4s 75us/step - loss: 0.0261 - acc: 0.9912 - val_loss: 0.1514 - val_acc: 0.9817\n",
      "Epoch 69/100\n",
      "60000/60000 [==============================] - 4s 74us/step - loss: 0.0258 - acc: 0.9907 - val_loss: 0.1789 - val_acc: 0.9788\n",
      "Epoch 70/100\n",
      "60000/60000 [==============================] - 5s 76us/step - loss: 0.0252 - acc: 0.9912 - val_loss: 0.1671 - val_acc: 0.9802\n",
      "Epoch 71/100\n",
      "60000/60000 [==============================] - 5s 77us/step - loss: 0.0220 - acc: 0.9923 - val_loss: 0.1650 - val_acc: 0.9811\n",
      "Epoch 72/100\n",
      "60000/60000 [==============================] - 5s 76us/step - loss: 0.0240 - acc: 0.9917 - val_loss: 0.1819 - val_acc: 0.9784\n",
      "Epoch 73/100\n",
      "60000/60000 [==============================] - 4s 74us/step - loss: 0.0252 - acc: 0.9913 - val_loss: 0.1744 - val_acc: 0.9790\n",
      "Epoch 74/100\n",
      "60000/60000 [==============================] - 5s 83us/step - loss: 0.0237 - acc: 0.9918 - val_loss: 0.1669 - val_acc: 0.9806\n",
      "Epoch 75/100\n",
      "60000/60000 [==============================] - 5s 84us/step - loss: 0.0222 - acc: 0.9920 - val_loss: 0.1741 - val_acc: 0.9794\n",
      "Epoch 76/100\n",
      "60000/60000 [==============================] - 6s 94us/step - loss: 0.0236 - acc: 0.9919 - val_loss: 0.1761 - val_acc: 0.9787\n",
      "Epoch 77/100\n",
      "60000/60000 [==============================] - 4s 75us/step - loss: 0.0242 - acc: 0.9915 - val_loss: 0.1715 - val_acc: 0.9809\n",
      "Epoch 78/100\n",
      "60000/60000 [==============================] - 4s 68us/step - loss: 0.0249 - acc: 0.9915 - val_loss: 0.1727 - val_acc: 0.9805\n",
      "Epoch 79/100\n",
      "60000/60000 [==============================] - 4s 68us/step - loss: 0.0229 - acc: 0.9920 - val_loss: 0.1605 - val_acc: 0.9809\n",
      "Epoch 80/100\n",
      "60000/60000 [==============================] - 4s 67us/step - loss: 0.0234 - acc: 0.9918 - val_loss: 0.1714 - val_acc: 0.9817\n",
      "Epoch 81/100\n",
      "60000/60000 [==============================] - 4s 66us/step - loss: 0.0219 - acc: 0.9927 - val_loss: 0.1668 - val_acc: 0.9805\n",
      "Epoch 82/100\n",
      "60000/60000 [==============================] - 4s 67us/step - loss: 0.0226 - acc: 0.9920 - val_loss: 0.1839 - val_acc: 0.9798\n",
      "Epoch 83/100\n",
      "60000/60000 [==============================] - 4s 66us/step - loss: 0.0244 - acc: 0.9919 - val_loss: 0.1902 - val_acc: 0.9795\n",
      "Epoch 84/100\n",
      "60000/60000 [==============================] - 4s 67us/step - loss: 0.0217 - acc: 0.9928 - val_loss: 0.1763 - val_acc: 0.9810\n",
      "Epoch 85/100\n",
      "60000/60000 [==============================] - 4s 66us/step - loss: 0.0201 - acc: 0.9924 - val_loss: 0.1828 - val_acc: 0.9804\n",
      "Epoch 86/100\n",
      "60000/60000 [==============================] - 4s 67us/step - loss: 0.0213 - acc: 0.9928 - val_loss: 0.1830 - val_acc: 0.9787\n",
      "Epoch 87/100\n",
      "60000/60000 [==============================] - 4s 64us/step - loss: 0.0233 - acc: 0.9923 - val_loss: 0.1778 - val_acc: 0.9808\n",
      "Epoch 88/100\n",
      "60000/60000 [==============================] - 4s 65us/step - loss: 0.0237 - acc: 0.9921 - val_loss: 0.1767 - val_acc: 0.9804\n",
      "Epoch 89/100\n",
      "60000/60000 [==============================] - 4s 65us/step - loss: 0.0224 - acc: 0.9928 - val_loss: 0.1990 - val_acc: 0.9783\n",
      "Epoch 90/100\n",
      "60000/60000 [==============================] - 4s 67us/step - loss: 0.0213 - acc: 0.9924 - val_loss: 0.1920 - val_acc: 0.9798\n",
      "Epoch 91/100\n",
      "60000/60000 [==============================] - 4s 68us/step - loss: 0.0247 - acc: 0.9916 - val_loss: 0.1682 - val_acc: 0.9819\n",
      "Epoch 92/100\n",
      "60000/60000 [==============================] - 4s 67us/step - loss: 0.0220 - acc: 0.9922 - val_loss: 0.1802 - val_acc: 0.9799\n",
      "Epoch 93/100\n",
      "60000/60000 [==============================] - 4s 70us/step - loss: 0.0225 - acc: 0.9922 - val_loss: 0.1904 - val_acc: 0.9799\n",
      "Epoch 94/100\n",
      "60000/60000 [==============================] - 4s 66us/step - loss: 0.0217 - acc: 0.9921 - val_loss: 0.1859 - val_acc: 0.9794\n",
      "Epoch 95/100\n",
      "60000/60000 [==============================] - 4s 63us/step - loss: 0.0226 - acc: 0.9922 - val_loss: 0.1817 - val_acc: 0.9797\n",
      "Epoch 96/100\n",
      "60000/60000 [==============================] - 4s 64us/step - loss: 0.0213 - acc: 0.9926 - val_loss: 0.1833 - val_acc: 0.9806\n",
      "Epoch 97/100\n",
      "60000/60000 [==============================] - 4s 66us/step - loss: 0.0231 - acc: 0.9919 - val_loss: 0.1777 - val_acc: 0.9795\n",
      "Epoch 98/100\n",
      "60000/60000 [==============================] - 4s 70us/step - loss: 0.0207 - acc: 0.9925 - val_loss: 0.1731 - val_acc: 0.9797\n",
      "Epoch 99/100\n",
      "60000/60000 [==============================] - 5s 77us/step - loss: 0.0212 - acc: 0.9927 - val_loss: 0.1903 - val_acc: 0.9802\n",
      "Epoch 100/100\n",
      "60000/60000 [==============================] - 4s 70us/step - loss: 0.0226 - acc: 0.9924 - val_loss: 0.1940 - val_acc: 0.9796\n",
      "Wall time: 7min 39s\n"
     ]
    }
   ],
   "source": [
    "%%time\n",
    "\n",
    "#　60000件の教師データを学習\n",
    "#　128個のバッチ学習　\n",
    "#model.compile(optimizer='rmsprop',loss='categorical_crossentropy',metrics=['accuracy'])\n",
    "\n",
    "history = model.fit(X_train,y_train, epochs =100, batch_size=128 ,validation_data=(X_test, y_test)  )\n"
   ]
  },
  {
   "cell_type": "code",
   "execution_count": 6,
   "metadata": {},
   "outputs": [
    {
     "name": "stdout",
     "output_type": "stream",
     "text": [
      "10000/10000 [==============================] - 0s 44us/step\n",
      "test_acc 0.9796\n",
      "test_loss 0.19402968996874903\n"
     ]
    }
   ],
   "source": [
    "#　学習した判別器を使用し　テストデータ10000個をテスト\n",
    "\n",
    "test_loss, test_acc = model.evaluate(X_test, y_test)\n",
    "\n",
    "print('test_acc' , test_acc)\n",
    "print('test_loss' , test_loss)"
   ]
  },
  {
   "cell_type": "code",
   "execution_count": 11,
   "metadata": {},
   "outputs": [
    {
     "data": {
      "text/plain": [
       "<matplotlib.legend.Legend at 0x1da4e3ff278>"
      ]
     },
     "execution_count": 11,
     "metadata": {},
     "output_type": "execute_result"
    },
    {
     "data": {
      "image/png": "[encoded data removed]",
      "text/plain": [
       "<matplotlib.figure.Figure at 0x1da4e36ec18>"
      ]
     },
     "metadata": {},
     "output_type": "display_data"
    }
   ],
   "source": [
    "#　訓練時の損失率と正解率をプロット\n",
    "\n",
    "import matplotlib.pyplot as plt\n",
    "\n",
    "\n",
    "fig, ax = plt.subplots(1, 2, figsize=(15,5))\n",
    "ax[0].set_title('loss')\n",
    "ax[0].plot(history.epoch, history.history[\"loss\"], label=\"Train loss\")\n",
    "ax[0].plot(history.epoch, history.history[\"val_loss\"], label=\"Validation loss\")\n",
    "ax[1].set_title('accuracy')\n",
    "ax[1].plot(history.epoch, history.history[\"acc\"], label=\"Train accuracy\")\n",
    "ax[1].plot(history.epoch, history.history[\"val_acc\"], label=\"Val_accuracy\")\n",
    "ax[0].legend()\n",
    "ax[1].legend()"
   ]
  },
  {
   "cell_type": "code",
   "execution_count": 15,
   "metadata": {},
   "outputs": [
    {
     "data": {
      "text/plain": [
       "1711"
      ]
     },
     "execution_count": 15,
     "metadata": {},
     "output_type": "execute_result"
    }
   ],
   "source": [
    "# モデルの保存\n",
    "\n",
    "model_name='model/MODEL_C02_NN_0529_01'\n",
    "\n",
    "model.save(model_name + '.hdf5')\n",
    "\n",
    "model.save_weights(model_name + '_weight.hdf5')\n",
    "#save as JSON\n",
    "json_string = model.to_json()\n",
    "open(model_name + '.json','w').write(json_string)"
   ]
  },
  {
   "cell_type": "code",
   "execution_count": 10,
   "metadata": {},
   "outputs": [
    {
     "name": "stdout",
     "output_type": "stream",
     "text": [
      "_________________________________________________________________\n",
      "Layer (type)                 Output Shape              Param #   \n",
      "=================================================================\n",
      "dense_11 (Dense)             (None, 300)               235500    \n",
      "_________________________________________________________________\n",
      "dense_12 (Dense)             (None, 30)                9030      \n",
      "_________________________________________________________________\n",
      "dense_13 (Dense)             (None, 10)                310       \n",
      "=================================================================\n",
      "Total params: 244,840\n",
      "Trainable params: 244,840\n",
      "Non-trainable params: 0\n",
      "_________________________________________________________________\n"
     ]
    }
   ],
   "source": [
    "### 学習済みモデルの読み込み\n",
    "model_name='model/MODEL_C02_NN_0524'\n",
    "\n",
    "model2=model_from_json(open(model_name + '.json','r').read())\n",
    "model2.load_weights(model_name  + '_weight.hdf5')\n",
    "\n",
    "\n",
    "model2.summary()"
   ]
  },
  {
   "cell_type": "markdown",
   "metadata": {},
   "source": [
    "#### 不正解データの取り出し\n",
    "    予測値　予測＋to_categoricaの逆　（onehot⇒0-9の値）\n",
    "    正解値　\n",
    "    不正解の　id、予測値　正解値　を　データフレームに\n",
    "       ３つのデータをarrayに\n",
    "       assin()メソッドで　データフレームに追加\n",
    "    \n",
    "    Xtrain,ytrain, wosiyou を使用\n",
    "    "
   ]
  },
  {
   "cell_type": "code",
   "execution_count": 16,
   "metadata": {},
   "outputs": [
    {
     "name": "stdout",
     "output_type": "stream",
     "text": [
      "incorrect_id.shape (191, 3)\n"
     ]
    },
    {
     "data": {
      "text/html": [
       "<div>\n",
       "<style scoped>\n",
       "    .dataframe tbody tr th:only-of-type {\n",
       "        vertical-align: middle;\n",
       "    }\n",
       "\n",
       "    .dataframe tbody tr th {\n",
       "        vertical-align: top;\n",
       "    }\n",
       "\n",
       "    .dataframe thead th {\n",
       "        text-align: right;\n",
       "    }\n",
       "</style>\n",
       "<table border=\"1\" class=\"dataframe\">\n",
       "  <thead>\n",
       "    <tr style=\"text-align: right;\">\n",
       "      <th></th>\n",
       "      <th>inc_id</th>\n",
       "      <th>correct_label</th>\n",
       "      <th>pred_label</th>\n",
       "    </tr>\n",
       "  </thead>\n",
       "  <tbody>\n",
       "    <tr>\n",
       "      <th>189</th>\n",
       "      <td>9839</td>\n",
       "      <td>2</td>\n",
       "      <td>3</td>\n",
       "    </tr>\n",
       "    <tr>\n",
       "      <th>190</th>\n",
       "      <td>9855</td>\n",
       "      <td>2</td>\n",
       "      <td>3</td>\n",
       "    </tr>\n",
       "    <tr>\n",
       "      <th>191</th>\n",
       "      <td>9858</td>\n",
       "      <td>6</td>\n",
       "      <td>8</td>\n",
       "    </tr>\n",
       "  </tbody>\n",
       "</table>\n",
       "</div>"
      ],
      "text/plain": [
       "    inc_id correct_label pred_label\n",
       "189   9839             2          3\n",
       "190   9855             2          3\n",
       "191   9858             6          8"
      ]
     },
     "execution_count": 16,
     "metadata": {},
     "output_type": "execute_result"
    }
   ],
   "source": [
    "# 不正解データを取り出し　データフレームに改良\n",
    "\n",
    "y_test_pred=model.predict(X_test)     #　モデルで予測\n",
    "ytest_pred=np.argsort(-y_test_pred, axis = 1)[:,:1] #　onehotデータを数値順に並べ替え　そのidを返す\n",
    "ytest_pred=ytest_pred.reshape(-1)\n",
    "\n",
    "incorrect_id=pd.DataFrame(index=[ ],columns=['inc_id','correct_label','pred_label'])  #　結果を入れるDF\n",
    "\n",
    "j=0\n",
    "for i in range(len(ytest)):\n",
    "    if ytest_pred[i]!=ytest[i]:\n",
    "        j=j+1\n",
    "        d=pd.Series([i,ytest[i],ytest_pred[i]],incorrect_id.columns,name=j)\n",
    "        incorrect_id=incorrect_id.append(d)\n",
    "\n",
    "print('incorrect_id.shape',incorrect_id.shape)\n",
    "incorrect_id.head(3)\n",
    "incorrect_id.tail(3)"
   ]
  },
  {
   "cell_type": "code",
   "execution_count": 17,
   "metadata": {},
   "outputs": [
    {
     "data": {
      "image/png": "[encoded data removed]",
      "text/plain": [
       "<Figure size 1440x360 with 10 Axes>"
      ]
     },
     "metadata": {
      "needs_background": "light"
     },
     "output_type": "display_data"
    }
   ],
   "source": [
    "#　不正解データの表示\n",
    "no=20\n",
    "\n",
    "fig, ax = plt.subplots(1,10,figsize=(20,5))\n",
    "\n",
    "for i in range(10):\n",
    "    image_no=incorrect_id.iloc[i+no][0]\n",
    "    c=incorrect_id.iloc[i+no][1]\n",
    "    p=incorrect_id.iloc[i+no][2]\n",
    "    \n",
    "    ax[i].imshow(Xtest[image_no] )\n",
    "    ax[i].set_title('No = {},{} '. format(c,p),fontsize=20)"
   ]
  },
  {
   "cell_type": "code",
   "execution_count": null,
   "metadata": {},
   "outputs": [],
   "source": []
  },
  {
   "cell_type": "code",
   "execution_count": null,
   "metadata": {},
   "outputs": [],
   "source": []
  },
  {
   "cell_type": "code",
   "execution_count": null,
   "metadata": {},
   "outputs": [],
   "source": []
  },
  {
   "cell_type": "code",
   "execution_count": null,
   "metadata": {},
   "outputs": [],
   "source": []
  },
  {
   "cell_type": "code",
   "execution_count": null,
   "metadata": {},
   "outputs": [],
   "source": []
  }
 ],
 "metadata": {
  "kernelspec": {
   "display_name": "Python 3",
   "language": "python",
   "name": "python3"
  },
  "language_info": {
   "codemirror_mode": {
    "name": "ipython",
    "version": 3
   },
   "file_extension": ".py",
   "mimetype": "text/x-python",
   "name": "python",
   "nbconvert_exporter": "python",
   "pygments_lexer": "ipython3",
   "version": "3.6.4"
  }
 },
 "nbformat": 4,
 "nbformat_minor": 2
}
