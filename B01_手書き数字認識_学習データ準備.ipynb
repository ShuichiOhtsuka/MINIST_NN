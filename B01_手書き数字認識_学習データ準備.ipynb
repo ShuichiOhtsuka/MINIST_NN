{
 "cells": [
  {
   "cell_type": "markdown",
   "metadata": {},
   "source": [
    "### 手書き文字判別　のデータ準備\n",
    "        kerasのサイトからデータを読み込み、機械学習の学習用　及び　テスト用データに変換\n",
    "        \n",
    "        Xtrain  ダウンロードしたままのデータ　\n",
    "        Xtest\n",
    "        ytrain\n",
    "        ytest\n",
    "        \n",
    "        X_train：学習用に加工した画像データ　　１次元化　データ値 0-1\n",
    "        y_train：学習用の画像データに対応した正解値　onehot化\n",
    "        X_test\n",
    "        y_test"
   ]
  },
  {
   "cell_type": "code",
   "execution_count": 2,
   "metadata": {},
   "outputs": [
    {
     "name": "stderr",
     "output_type": "stream",
     "text": [
      "C:\\Anaconda3\\lib\\site-packages\\h5py\\__init__.py:36: FutureWarning: Conversion of the second argument of issubdtype from `float` to `np.floating` is deprecated. In future, it will be treated as `np.float64 == np.dtype(float).type`.\n",
      "  from ._conv import register_converters as _register_converters\n",
      "Using TensorFlow backend.\n"
     ]
    },
    {
     "name": "stdout",
     "output_type": "stream",
     "text": [
      "Xtrain shape (60000, 28, 28)\n",
      "Xtest shape (10000, 28, 28)\n",
      "ytrain shape (60000,)\n",
      "ytest shape (10000,)\n"
     ]
    }
   ],
   "source": [
    "#　kerasから　mnistデータ（手書き数字）を読み込む\n",
    "import keras\n",
    "import numpy as np\n",
    "from keras.datasets import mnist\n",
    "import matplotlib.pyplot as plt   # 画像表示のモジュールを読み込む\n",
    "\n",
    "\n",
    "(Xtrain, ytrain), (Xtest, ytest) = mnist.load_data()\n",
    "\n",
    "# numpyの配列として取り込み.shape で　取り込んだデータの構造を確認できる\n",
    "print('Xtrain shape',format(Xtrain.shape))  #train_imagesのデータ構造を表示\n",
    "     #　このデータは３次元のテンソル（画像の数、画像行数、画像列数）\n",
    "print('Xtest shape',Xtest.shape)    #「.shape」：データフレームの構造を表示させるコマンド\n",
    "print('ytrain shape',ytrain.shape)\n",
    "print('ytest shape',ytest.shape)\n"
   ]
  },
  {
   "cell_type": "code",
   "execution_count": 4,
   "metadata": {},
   "outputs": [
    {
     "data": {
      "text/plain": [
       "array([[[0, 0, 0, ..., 0, 0, 0],\n",
       "        [0, 0, 0, ..., 0, 0, 0],\n",
       "        [0, 0, 0, ..., 0, 0, 0],\n",
       "        ...,\n",
       "        [0, 0, 0, ..., 0, 0, 0],\n",
       "        [0, 0, 0, ..., 0, 0, 0],\n",
       "        [0, 0, 0, ..., 0, 0, 0]],\n",
       "\n",
       "       [[0, 0, 0, ..., 0, 0, 0],\n",
       "        [0, 0, 0, ..., 0, 0, 0],\n",
       "        [0, 0, 0, ..., 0, 0, 0],\n",
       "        ...,\n",
       "        [0, 0, 0, ..., 0, 0, 0],\n",
       "        [0, 0, 0, ..., 0, 0, 0],\n",
       "        [0, 0, 0, ..., 0, 0, 0]]], dtype=uint8)"
      ]
     },
     "execution_count": 4,
     "metadata": {},
     "output_type": "execute_result"
    }
   ],
   "source": [
    "Xtrain[0:2]"
   ]
  },
  {
   "cell_type": "code",
   "execution_count": 5,
   "metadata": {},
   "outputs": [
    {
     "data": {
      "image/png": "[encoded data removed]",
      "text/plain": [
       "<matplotlib.figure.Figure at 0x18662e8f2b0>"
      ]
     },
     "metadata": {},
     "output_type": "display_data"
    }
   ],
   "source": [
    "#　画像データを表示する\n",
    "image_no=110 #表示する画像番号\n",
    "\n",
    "digit = Xtrain[image_no]            # train_imagesのimage_no番目の画像を取り出す\n",
    "\n",
    "import matplotlib.pyplot as plt   # 画像表示のモジュールを読み込む\n",
    "\n",
    "plt.imshow(digit)\n",
    "plt.title('Correct Number = {} '. format(ytrain[image_no]))\n",
    "plt.show()\n"
   ]
  },
  {
   "cell_type": "code",
   "execution_count": 6,
   "metadata": {},
   "outputs": [
    {
     "data": {
      "image/png": "[encoded data removed]",
      "text/plain": [
       "<matplotlib.figure.Figure at 0x18662f21e80>"
      ]
     },
     "metadata": {},
     "output_type": "display_data"
    }
   ],
   "source": [
    "image_no=10        #表示する最初の画像番号　ここから10画像表示\n",
    "\n",
    "fig, ax = plt.subplots(1,10,figsize=(20,5))\n",
    "\n",
    "for i in range(10):\n",
    "    ax[i].imshow(Xtrain[image_no+i] )\n",
    "    ax[i].set_title('No = {} '. format(ytrain[image_no+i]),fontsize=20)"
   ]
  },
  {
   "cell_type": "markdown",
   "metadata": {},
   "source": [
    "#### データを　学習用データに形状変更する\n",
    "    １．画像データを　1行のデータに並べ替える\n",
    "    ２．画素値の値を　0-1のfloatに変更する    \n",
    "    ３．正解データ　0-9のラベル出力を　categoricalに変更\n",
    "    　　　（10個の0-1に相当する箱　正解値が１で他は０"
   ]
  },
  {
   "cell_type": "code",
   "execution_count": 7,
   "metadata": {},
   "outputs": [
    {
     "name": "stdout",
     "output_type": "stream",
     "text": [
      "Xtrain shape (60000, 28, 28)\n",
      "X_train shape (60000, 784)\n",
      "X_test shape (10000, 784)\n"
     ]
    }
   ],
   "source": [
    "#　データの形状変更\n",
    "#　28x28画素の画像データを１列の数字の並びに変更　0-1のfloatに変更\n",
    "\n",
    "X_train = Xtrain.reshape(60000,28*28)#画像データをフラットなデータに変換\n",
    "X_train = X_train.astype('float32')/255#データを0-1のfloatに変換\n",
    "\n",
    "X_test = Xtest.reshape(10000,28*28)\n",
    "X_test = X_test.astype('float32')/255\n",
    "\n",
    "\n",
    "print('Xtrain shape',format(Xtrain.shape))\n",
    "print('X_train shape',format(X_train.shape))\n",
    "print('X_test shape',format(X_test.shape))\n",
    "\n"
   ]
  },
  {
   "cell_type": "code",
   "execution_count": 8,
   "metadata": {},
   "outputs": [
    {
     "data": {
      "text/plain": [
       "array([[0., 0., 0., ..., 0., 0., 0.],\n",
       "       [0., 0., 0., ..., 0., 0., 0.]], dtype=float32)"
      ]
     },
     "execution_count": 8,
     "metadata": {},
     "output_type": "execute_result"
    }
   ],
   "source": [
    "X_train[0:2]"
   ]
  },
  {
   "cell_type": "code",
   "execution_count": 9,
   "metadata": {},
   "outputs": [
    {
     "name": "stdout",
     "output_type": "stream",
     "text": [
      "ytrain shape (60000,)\n",
      "y_train shape (60000, 10)\n",
      "y_test shape (10000, 10)\n"
     ]
    },
    {
     "data": {
      "text/plain": [
       "array([0., 0., 0., 1., 0., 0., 0., 0., 0., 0.], dtype=float32)"
      ]
     },
     "execution_count": 9,
     "metadata": {},
     "output_type": "execute_result"
    }
   ],
   "source": [
    "# ラベルの準備\n",
    "#　0-9のラベル出力を　categoricalに変更\n",
    "\n",
    "from keras.utils import to_categorical\n",
    "\n",
    "y_train = to_categorical(ytrain)\n",
    "y_test = to_categorical(ytest)\n",
    "\n",
    "print('ytrain shape',format(ytrain.shape))\n",
    "print('y_train shape',format(y_train.shape))\n",
    "print('y_test shape',format(y_test.shape))\n"
   ]
  },
  {
   "cell_type": "code",
   "execution_count": 10,
   "metadata": {},
   "outputs": [
    {
     "data": {
      "text/plain": [
       "array([[0., 0., 0., 0., 0., 1., 0., 0., 0., 0.],\n",
       "       [1., 0., 0., 0., 0., 0., 0., 0., 0., 0.]], dtype=float32)"
      ]
     },
     "execution_count": 10,
     "metadata": {},
     "output_type": "execute_result"
    }
   ],
   "source": [
    "y_train[0:2]"
   ]
  },
  {
   "cell_type": "code",
   "execution_count": 11,
   "metadata": {},
   "outputs": [],
   "source": [
    "# 作成したデータセットを保存\n",
    "\n",
    "np.save('DATA/Xtrain.npy',Xtrain)\n",
    "np.save('DATA/Xtest.npy',Xtest)\n",
    "np.save('DATA/ytrain.npy',ytrain)\n",
    "np.save('DATA/ytest.npy',ytest)\n",
    "\n",
    "np.save('DATA/X_train.npy',X_train)\n",
    "np.save('DATA/X_test.npy',X_test)\n",
    "np.save('DATA/y_train.npy',y_train)\n",
    "np.save('DATA/y_test.npy',y_test)"
   ]
  },
  {
   "cell_type": "code",
   "execution_count": null,
   "metadata": {},
   "outputs": [],
   "source": []
  }
 ],
 "metadata": {
  "kernelspec": {
   "display_name": "Python 3",
   "language": "python",
   "name": "python3"
  },
  "language_info": {
   "codemirror_mode": {
    "name": "ipython",
    "version": 3
   },
   "file_extension": ".py",
   "mimetype": "text/x-python",
   "name": "python",
   "nbconvert_exporter": "python",
   "pygments_lexer": "ipython3",
   "version": "3.6.4"
  }
 },
 "nbformat": 4,
 "nbformat_minor": 2
}
